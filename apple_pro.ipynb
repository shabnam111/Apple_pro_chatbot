{
 "cells": [
  {
   "cell_type": "code",
   "execution_count": 14,
   "metadata": {},
   "outputs": [
    {
     "name": "stdout",
     "output_type": "stream",
     "text": [
      "Collecting langchain-community\n",
      "  Using cached langchain_community-0.2.10-py3-none-any.whl.metadata (2.7 kB)\n",
      "Collecting PyYAML>=5.3 (from langchain-community)\n",
      "  Using cached PyYAML-6.0.1-cp310-cp310-macosx_10_9_x86_64.whl.metadata (2.1 kB)\n",
      "Collecting SQLAlchemy<3,>=1.4 (from langchain-community)\n",
      "  Using cached SQLAlchemy-2.0.31-cp310-cp310-macosx_10_9_x86_64.whl.metadata (9.6 kB)\n",
      "Collecting aiohttp<4.0.0,>=3.8.3 (from langchain-community)\n",
      "  Using cached aiohttp-3.9.5-cp310-cp310-macosx_10_9_x86_64.whl.metadata (7.5 kB)\n",
      "Collecting dataclasses-json<0.7,>=0.5.7 (from langchain-community)\n",
      "  Using cached dataclasses_json-0.6.7-py3-none-any.whl.metadata (25 kB)\n",
      "Collecting langchain<0.3.0,>=0.2.9 (from langchain-community)\n",
      "  Using cached langchain-0.2.11-py3-none-any.whl.metadata (7.1 kB)\n",
      "Collecting langchain-core<0.3.0,>=0.2.23 (from langchain-community)\n",
      "  Using cached langchain_core-0.2.23-py3-none-any.whl.metadata (6.2 kB)\n",
      "Collecting langsmith<0.2.0,>=0.1.0 (from langchain-community)\n",
      "  Using cached langsmith-0.1.93-py3-none-any.whl.metadata (13 kB)\n",
      "Requirement already satisfied: numpy<2,>=1 in ./venev/lib/python3.10/site-packages (from langchain-community) (1.26.4)\n",
      "Requirement already satisfied: requests<3,>=2 in ./venev/lib/python3.10/site-packages (from langchain-community) (2.32.3)\n",
      "Collecting tenacity!=8.4.0,<9.0.0,>=8.1.0 (from langchain-community)\n",
      "  Using cached tenacity-8.5.0-py3-none-any.whl.metadata (1.2 kB)\n",
      "Collecting aiosignal>=1.1.2 (from aiohttp<4.0.0,>=3.8.3->langchain-community)\n",
      "  Using cached aiosignal-1.3.1-py3-none-any.whl.metadata (4.0 kB)\n",
      "Collecting attrs>=17.3.0 (from aiohttp<4.0.0,>=3.8.3->langchain-community)\n",
      "  Using cached attrs-23.2.0-py3-none-any.whl.metadata (9.5 kB)\n",
      "Collecting frozenlist>=1.1.1 (from aiohttp<4.0.0,>=3.8.3->langchain-community)\n",
      "  Using cached frozenlist-1.4.1-cp310-cp310-macosx_10_9_x86_64.whl.metadata (12 kB)\n",
      "Collecting multidict<7.0,>=4.5 (from aiohttp<4.0.0,>=3.8.3->langchain-community)\n",
      "  Using cached multidict-6.0.5-cp310-cp310-macosx_10_9_x86_64.whl.metadata (4.2 kB)\n",
      "Collecting yarl<2.0,>=1.0 (from aiohttp<4.0.0,>=3.8.3->langchain-community)\n",
      "  Using cached yarl-1.9.4-cp310-cp310-macosx_10_9_x86_64.whl.metadata (31 kB)\n",
      "Collecting async-timeout<5.0,>=4.0 (from aiohttp<4.0.0,>=3.8.3->langchain-community)\n",
      "  Using cached async_timeout-4.0.3-py3-none-any.whl.metadata (4.2 kB)\n",
      "Collecting marshmallow<4.0.0,>=3.18.0 (from dataclasses-json<0.7,>=0.5.7->langchain-community)\n",
      "  Using cached marshmallow-3.21.3-py3-none-any.whl.metadata (7.1 kB)\n",
      "Collecting typing-inspect<1,>=0.4.0 (from dataclasses-json<0.7,>=0.5.7->langchain-community)\n",
      "  Using cached typing_inspect-0.9.0-py3-none-any.whl.metadata (1.5 kB)\n",
      "Collecting langchain-text-splitters<0.3.0,>=0.2.0 (from langchain<0.3.0,>=0.2.9->langchain-community)\n",
      "  Using cached langchain_text_splitters-0.2.2-py3-none-any.whl.metadata (2.1 kB)\n",
      "Requirement already satisfied: pydantic<3,>=1 in ./venev/lib/python3.10/site-packages (from langchain<0.3.0,>=0.2.9->langchain-community) (2.8.2)\n",
      "Collecting jsonpatch<2.0,>=1.33 (from langchain-core<0.3.0,>=0.2.23->langchain-community)\n",
      "  Using cached jsonpatch-1.33-py2.py3-none-any.whl.metadata (3.0 kB)\n",
      "Requirement already satisfied: packaging<25,>=23.2 in ./venev/lib/python3.10/site-packages (from langchain-core<0.3.0,>=0.2.23->langchain-community) (24.1)\n",
      "Collecting orjson<4.0.0,>=3.9.14 (from langsmith<0.2.0,>=0.1.0->langchain-community)\n",
      "  Using cached orjson-3.10.6-cp310-cp310-macosx_10_15_x86_64.macosx_11_0_arm64.macosx_10_15_universal2.whl.metadata (50 kB)\n",
      "Requirement already satisfied: charset-normalizer<4,>=2 in ./venev/lib/python3.10/site-packages (from requests<3,>=2->langchain-community) (3.3.2)\n",
      "Requirement already satisfied: idna<4,>=2.5 in ./venev/lib/python3.10/site-packages (from requests<3,>=2->langchain-community) (3.7)\n",
      "Requirement already satisfied: urllib3<3,>=1.21.1 in ./venev/lib/python3.10/site-packages (from requests<3,>=2->langchain-community) (2.2.2)\n",
      "Requirement already satisfied: certifi>=2017.4.17 in ./venev/lib/python3.10/site-packages (from requests<3,>=2->langchain-community) (2024.7.4)\n",
      "Requirement already satisfied: typing-extensions>=4.6.0 in ./venev/lib/python3.10/site-packages (from SQLAlchemy<3,>=1.4->langchain-community) (4.12.2)\n",
      "Collecting greenlet!=0.4.17 (from SQLAlchemy<3,>=1.4->langchain-community)\n",
      "  Using cached greenlet-3.0.3.tar.gz (182 kB)\n",
      "  Installing build dependencies ... \u001b[?25ldone\n",
      "\u001b[?25h  Getting requirements to build wheel ... \u001b[?25ldone\n",
      "\u001b[?25h  Preparing metadata (pyproject.toml) ... \u001b[?25ldone\n",
      "\u001b[?25hCollecting jsonpointer>=1.9 (from jsonpatch<2.0,>=1.33->langchain-core<0.3.0,>=0.2.23->langchain-community)\n",
      "  Using cached jsonpointer-3.0.0-py2.py3-none-any.whl.metadata (2.3 kB)\n",
      "Requirement already satisfied: annotated-types>=0.4.0 in ./venev/lib/python3.10/site-packages (from pydantic<3,>=1->langchain<0.3.0,>=0.2.9->langchain-community) (0.7.0)\n",
      "Requirement already satisfied: pydantic-core==2.20.1 in ./venev/lib/python3.10/site-packages (from pydantic<3,>=1->langchain<0.3.0,>=0.2.9->langchain-community) (2.20.1)\n",
      "Collecting mypy-extensions>=0.3.0 (from typing-inspect<1,>=0.4.0->dataclasses-json<0.7,>=0.5.7->langchain-community)\n",
      "  Using cached mypy_extensions-1.0.0-py3-none-any.whl.metadata (1.1 kB)\n",
      "Using cached langchain_community-0.2.10-py3-none-any.whl (2.3 MB)\n",
      "Using cached aiohttp-3.9.5-cp310-cp310-macosx_10_9_x86_64.whl (400 kB)\n",
      "Using cached dataclasses_json-0.6.7-py3-none-any.whl (28 kB)\n",
      "Using cached langchain-0.2.11-py3-none-any.whl (990 kB)\n",
      "Using cached langchain_core-0.2.23-py3-none-any.whl (374 kB)\n",
      "Using cached langsmith-0.1.93-py3-none-any.whl (139 kB)\n",
      "Using cached PyYAML-6.0.1-cp310-cp310-macosx_10_9_x86_64.whl (189 kB)\n",
      "Using cached SQLAlchemy-2.0.31-cp310-cp310-macosx_10_9_x86_64.whl (2.1 MB)\n",
      "Using cached tenacity-8.5.0-py3-none-any.whl (28 kB)\n",
      "Using cached aiosignal-1.3.1-py3-none-any.whl (7.6 kB)\n",
      "Using cached async_timeout-4.0.3-py3-none-any.whl (5.7 kB)\n",
      "Using cached attrs-23.2.0-py3-none-any.whl (60 kB)\n",
      "Using cached frozenlist-1.4.1-cp310-cp310-macosx_10_9_x86_64.whl (53 kB)\n",
      "Using cached jsonpatch-1.33-py2.py3-none-any.whl (12 kB)\n",
      "Using cached langchain_text_splitters-0.2.2-py3-none-any.whl (25 kB)\n",
      "Using cached marshmallow-3.21.3-py3-none-any.whl (49 kB)\n",
      "Using cached multidict-6.0.5-cp310-cp310-macosx_10_9_x86_64.whl (30 kB)\n",
      "Using cached orjson-3.10.6-cp310-cp310-macosx_10_15_x86_64.macosx_11_0_arm64.macosx_10_15_universal2.whl (250 kB)\n",
      "Using cached typing_inspect-0.9.0-py3-none-any.whl (8.8 kB)\n",
      "Using cached yarl-1.9.4-cp310-cp310-macosx_10_9_x86_64.whl (81 kB)\n",
      "Using cached jsonpointer-3.0.0-py2.py3-none-any.whl (7.6 kB)\n",
      "Using cached mypy_extensions-1.0.0-py3-none-any.whl (4.7 kB)\n",
      "Building wheels for collected packages: greenlet\n",
      "  Building wheel for greenlet (pyproject.toml) ... \u001b[?25lerror\n",
      "  \u001b[1;31merror\u001b[0m: \u001b[1msubprocess-exited-with-error\u001b[0m\n",
      "  \n",
      "  \u001b[31m×\u001b[0m \u001b[32mBuilding wheel for greenlet \u001b[0m\u001b[1;32m(\u001b[0m\u001b[32mpyproject.toml\u001b[0m\u001b[1;32m)\u001b[0m did not run successfully.\n",
      "  \u001b[31m│\u001b[0m exit code: \u001b[1;36m1\u001b[0m\n",
      "  \u001b[31m╰─>\u001b[0m \u001b[31m[114 lines of output]\u001b[0m\n",
      "  \u001b[31m   \u001b[0m running bdist_wheel\n",
      "  \u001b[31m   \u001b[0m running build\n",
      "  \u001b[31m   \u001b[0m running build_py\n",
      "  \u001b[31m   \u001b[0m creating build\n",
      "  \u001b[31m   \u001b[0m creating build/lib.macosx-10.9-x86_64-cpython-310\n",
      "  \u001b[31m   \u001b[0m creating build/lib.macosx-10.9-x86_64-cpython-310/greenlet\n",
      "  \u001b[31m   \u001b[0m copying src/greenlet/__init__.py -> build/lib.macosx-10.9-x86_64-cpython-310/greenlet\n",
      "  \u001b[31m   \u001b[0m creating build/lib.macosx-10.9-x86_64-cpython-310/greenlet/platform\n",
      "  \u001b[31m   \u001b[0m copying src/greenlet/platform/__init__.py -> build/lib.macosx-10.9-x86_64-cpython-310/greenlet/platform\n",
      "  \u001b[31m   \u001b[0m creating build/lib.macosx-10.9-x86_64-cpython-310/greenlet/tests\n",
      "  \u001b[31m   \u001b[0m copying src/greenlet/tests/test_version.py -> build/lib.macosx-10.9-x86_64-cpython-310/greenlet/tests\n",
      "  \u001b[31m   \u001b[0m copying src/greenlet/tests/test_weakref.py -> build/lib.macosx-10.9-x86_64-cpython-310/greenlet/tests\n",
      "  \u001b[31m   \u001b[0m copying src/greenlet/tests/fail_slp_switch.py -> build/lib.macosx-10.9-x86_64-cpython-310/greenlet/tests\n",
      "  \u001b[31m   \u001b[0m copying src/greenlet/tests/test_gc.py -> build/lib.macosx-10.9-x86_64-cpython-310/greenlet/tests\n",
      "  \u001b[31m   \u001b[0m copying src/greenlet/tests/leakcheck.py -> build/lib.macosx-10.9-x86_64-cpython-310/greenlet/tests\n",
      "  \u001b[31m   \u001b[0m copying src/greenlet/tests/fail_switch_two_greenlets.py -> build/lib.macosx-10.9-x86_64-cpython-310/greenlet/tests\n",
      "  \u001b[31m   \u001b[0m copying src/greenlet/tests/test_generator.py -> build/lib.macosx-10.9-x86_64-cpython-310/greenlet/tests\n",
      "  \u001b[31m   \u001b[0m copying src/greenlet/tests/test_greenlet_trash.py -> build/lib.macosx-10.9-x86_64-cpython-310/greenlet/tests\n",
      "  \u001b[31m   \u001b[0m copying src/greenlet/tests/test_throw.py -> build/lib.macosx-10.9-x86_64-cpython-310/greenlet/tests\n",
      "  \u001b[31m   \u001b[0m copying src/greenlet/tests/test_tracing.py -> build/lib.macosx-10.9-x86_64-cpython-310/greenlet/tests\n",
      "  \u001b[31m   \u001b[0m copying src/greenlet/tests/fail_cpp_exception.py -> build/lib.macosx-10.9-x86_64-cpython-310/greenlet/tests\n",
      "  \u001b[31m   \u001b[0m copying src/greenlet/tests/fail_switch_three_greenlets.py -> build/lib.macosx-10.9-x86_64-cpython-310/greenlet/tests\n",
      "  \u001b[31m   \u001b[0m copying src/greenlet/tests/test_cpp.py -> build/lib.macosx-10.9-x86_64-cpython-310/greenlet/tests\n",
      "  \u001b[31m   \u001b[0m copying src/greenlet/tests/test_contextvars.py -> build/lib.macosx-10.9-x86_64-cpython-310/greenlet/tests\n",
      "  \u001b[31m   \u001b[0m copying src/greenlet/tests/test_greenlet.py -> build/lib.macosx-10.9-x86_64-cpython-310/greenlet/tests\n",
      "  \u001b[31m   \u001b[0m copying src/greenlet/tests/test_extension_interface.py -> build/lib.macosx-10.9-x86_64-cpython-310/greenlet/tests\n",
      "  \u001b[31m   \u001b[0m copying src/greenlet/tests/fail_clearing_run_switches.py -> build/lib.macosx-10.9-x86_64-cpython-310/greenlet/tests\n",
      "  \u001b[31m   \u001b[0m copying src/greenlet/tests/__init__.py -> build/lib.macosx-10.9-x86_64-cpython-310/greenlet/tests\n",
      "  \u001b[31m   \u001b[0m copying src/greenlet/tests/fail_switch_three_greenlets2.py -> build/lib.macosx-10.9-x86_64-cpython-310/greenlet/tests\n",
      "  \u001b[31m   \u001b[0m copying src/greenlet/tests/fail_initialstub_already_started.py -> build/lib.macosx-10.9-x86_64-cpython-310/greenlet/tests\n",
      "  \u001b[31m   \u001b[0m copying src/greenlet/tests/test_generator_nested.py -> build/lib.macosx-10.9-x86_64-cpython-310/greenlet/tests\n",
      "  \u001b[31m   \u001b[0m copying src/greenlet/tests/test_stack_saved.py -> build/lib.macosx-10.9-x86_64-cpython-310/greenlet/tests\n",
      "  \u001b[31m   \u001b[0m copying src/greenlet/tests/test_leaks.py -> build/lib.macosx-10.9-x86_64-cpython-310/greenlet/tests\n",
      "  \u001b[31m   \u001b[0m running egg_info\n",
      "  \u001b[31m   \u001b[0m writing src/greenlet.egg-info/PKG-INFO\n",
      "  \u001b[31m   \u001b[0m writing dependency_links to src/greenlet.egg-info/dependency_links.txt\n",
      "  \u001b[31m   \u001b[0m writing requirements to src/greenlet.egg-info/requires.txt\n",
      "  \u001b[31m   \u001b[0m writing top-level names to src/greenlet.egg-info/top_level.txt\n",
      "  \u001b[31m   \u001b[0m reading manifest file 'src/greenlet.egg-info/SOURCES.txt'\n",
      "  \u001b[31m   \u001b[0m reading manifest template 'MANIFEST.in'\n",
      "  \u001b[31m   \u001b[0m warning: no previously-included files found matching 'benchmarks/*.json'\n",
      "  \u001b[31m   \u001b[0m no previously-included directories found matching 'docs/_build'\n",
      "  \u001b[31m   \u001b[0m warning: no files found matching '*.py' under directory 'appveyor'\n",
      "  \u001b[31m   \u001b[0m warning: no previously-included files matching '*.pyc' found anywhere in distribution\n",
      "  \u001b[31m   \u001b[0m warning: no previously-included files matching '*.pyd' found anywhere in distribution\n",
      "  \u001b[31m   \u001b[0m warning: no previously-included files matching '*.so' found anywhere in distribution\n",
      "  \u001b[31m   \u001b[0m warning: no previously-included files matching '.coverage' found anywhere in distribution\n",
      "  \u001b[31m   \u001b[0m adding license file 'LICENSE'\n",
      "  \u001b[31m   \u001b[0m adding license file 'LICENSE.PSF'\n",
      "  \u001b[31m   \u001b[0m adding license file 'AUTHORS'\n",
      "  \u001b[31m   \u001b[0m writing manifest file 'src/greenlet.egg-info/SOURCES.txt'\n",
      "  \u001b[31m   \u001b[0m copying src/greenlet/TBrokenGreenlet.cpp -> build/lib.macosx-10.9-x86_64-cpython-310/greenlet\n",
      "  \u001b[31m   \u001b[0m copying src/greenlet/TExceptionState.cpp -> build/lib.macosx-10.9-x86_64-cpython-310/greenlet\n",
      "  \u001b[31m   \u001b[0m copying src/greenlet/TGreenlet.cpp -> build/lib.macosx-10.9-x86_64-cpython-310/greenlet\n",
      "  \u001b[31m   \u001b[0m copying src/greenlet/TGreenletGlobals.cpp -> build/lib.macosx-10.9-x86_64-cpython-310/greenlet\n",
      "  \u001b[31m   \u001b[0m copying src/greenlet/TMainGreenlet.cpp -> build/lib.macosx-10.9-x86_64-cpython-310/greenlet\n",
      "  \u001b[31m   \u001b[0m copying src/greenlet/TPythonState.cpp -> build/lib.macosx-10.9-x86_64-cpython-310/greenlet\n",
      "  \u001b[31m   \u001b[0m copying src/greenlet/TStackState.cpp -> build/lib.macosx-10.9-x86_64-cpython-310/greenlet\n",
      "  \u001b[31m   \u001b[0m copying src/greenlet/TThreadStateDestroy.cpp -> build/lib.macosx-10.9-x86_64-cpython-310/greenlet\n",
      "  \u001b[31m   \u001b[0m copying src/greenlet/TUserGreenlet.cpp -> build/lib.macosx-10.9-x86_64-cpython-310/greenlet\n",
      "  \u001b[31m   \u001b[0m copying src/greenlet/greenlet.cpp -> build/lib.macosx-10.9-x86_64-cpython-310/greenlet\n",
      "  \u001b[31m   \u001b[0m copying src/greenlet/greenlet.h -> build/lib.macosx-10.9-x86_64-cpython-310/greenlet\n",
      "  \u001b[31m   \u001b[0m copying src/greenlet/greenlet_allocator.hpp -> build/lib.macosx-10.9-x86_64-cpython-310/greenlet\n",
      "  \u001b[31m   \u001b[0m copying src/greenlet/greenlet_compiler_compat.hpp -> build/lib.macosx-10.9-x86_64-cpython-310/greenlet\n",
      "  \u001b[31m   \u001b[0m copying src/greenlet/greenlet_cpython_add_pending.hpp -> build/lib.macosx-10.9-x86_64-cpython-310/greenlet\n",
      "  \u001b[31m   \u001b[0m copying src/greenlet/greenlet_cpython_compat.hpp -> build/lib.macosx-10.9-x86_64-cpython-310/greenlet\n",
      "  \u001b[31m   \u001b[0m copying src/greenlet/greenlet_exceptions.hpp -> build/lib.macosx-10.9-x86_64-cpython-310/greenlet\n",
      "  \u001b[31m   \u001b[0m copying src/greenlet/greenlet_greenlet.hpp -> build/lib.macosx-10.9-x86_64-cpython-310/greenlet\n",
      "  \u001b[31m   \u001b[0m copying src/greenlet/greenlet_internal.hpp -> build/lib.macosx-10.9-x86_64-cpython-310/greenlet\n",
      "  \u001b[31m   \u001b[0m copying src/greenlet/greenlet_refs.hpp -> build/lib.macosx-10.9-x86_64-cpython-310/greenlet\n",
      "  \u001b[31m   \u001b[0m copying src/greenlet/greenlet_slp_switch.hpp -> build/lib.macosx-10.9-x86_64-cpython-310/greenlet\n",
      "  \u001b[31m   \u001b[0m copying src/greenlet/greenlet_thread_state.hpp -> build/lib.macosx-10.9-x86_64-cpython-310/greenlet\n",
      "  \u001b[31m   \u001b[0m copying src/greenlet/greenlet_thread_state_dict_cleanup.hpp -> build/lib.macosx-10.9-x86_64-cpython-310/greenlet\n",
      "  \u001b[31m   \u001b[0m copying src/greenlet/greenlet_thread_support.hpp -> build/lib.macosx-10.9-x86_64-cpython-310/greenlet\n",
      "  \u001b[31m   \u001b[0m copying src/greenlet/slp_platformselect.h -> build/lib.macosx-10.9-x86_64-cpython-310/greenlet\n",
      "  \u001b[31m   \u001b[0m copying src/greenlet/platform/setup_switch_x64_masm.cmd -> build/lib.macosx-10.9-x86_64-cpython-310/greenlet/platform\n",
      "  \u001b[31m   \u001b[0m copying src/greenlet/platform/switch_aarch64_gcc.h -> build/lib.macosx-10.9-x86_64-cpython-310/greenlet/platform\n",
      "  \u001b[31m   \u001b[0m copying src/greenlet/platform/switch_alpha_unix.h -> build/lib.macosx-10.9-x86_64-cpython-310/greenlet/platform\n",
      "  \u001b[31m   \u001b[0m copying src/greenlet/platform/switch_amd64_unix.h -> build/lib.macosx-10.9-x86_64-cpython-310/greenlet/platform\n",
      "  \u001b[31m   \u001b[0m copying src/greenlet/platform/switch_arm32_gcc.h -> build/lib.macosx-10.9-x86_64-cpython-310/greenlet/platform\n",
      "  \u001b[31m   \u001b[0m copying src/greenlet/platform/switch_arm32_ios.h -> build/lib.macosx-10.9-x86_64-cpython-310/greenlet/platform\n",
      "  \u001b[31m   \u001b[0m copying src/greenlet/platform/switch_arm64_masm.asm -> build/lib.macosx-10.9-x86_64-cpython-310/greenlet/platform\n",
      "  \u001b[31m   \u001b[0m copying src/greenlet/platform/switch_arm64_masm.obj -> build/lib.macosx-10.9-x86_64-cpython-310/greenlet/platform\n",
      "  \u001b[31m   \u001b[0m copying src/greenlet/platform/switch_arm64_msvc.h -> build/lib.macosx-10.9-x86_64-cpython-310/greenlet/platform\n",
      "  \u001b[31m   \u001b[0m copying src/greenlet/platform/switch_csky_gcc.h -> build/lib.macosx-10.9-x86_64-cpython-310/greenlet/platform\n",
      "  \u001b[31m   \u001b[0m copying src/greenlet/platform/switch_loongarch64_linux.h -> build/lib.macosx-10.9-x86_64-cpython-310/greenlet/platform\n",
      "  \u001b[31m   \u001b[0m copying src/greenlet/platform/switch_m68k_gcc.h -> build/lib.macosx-10.9-x86_64-cpython-310/greenlet/platform\n",
      "  \u001b[31m   \u001b[0m copying src/greenlet/platform/switch_mips_unix.h -> build/lib.macosx-10.9-x86_64-cpython-310/greenlet/platform\n",
      "  \u001b[31m   \u001b[0m copying src/greenlet/platform/switch_ppc64_aix.h -> build/lib.macosx-10.9-x86_64-cpython-310/greenlet/platform\n",
      "  \u001b[31m   \u001b[0m copying src/greenlet/platform/switch_ppc64_linux.h -> build/lib.macosx-10.9-x86_64-cpython-310/greenlet/platform\n",
      "  \u001b[31m   \u001b[0m copying src/greenlet/platform/switch_ppc_aix.h -> build/lib.macosx-10.9-x86_64-cpython-310/greenlet/platform\n",
      "  \u001b[31m   \u001b[0m copying src/greenlet/platform/switch_ppc_linux.h -> build/lib.macosx-10.9-x86_64-cpython-310/greenlet/platform\n",
      "  \u001b[31m   \u001b[0m copying src/greenlet/platform/switch_ppc_macosx.h -> build/lib.macosx-10.9-x86_64-cpython-310/greenlet/platform\n",
      "  \u001b[31m   \u001b[0m copying src/greenlet/platform/switch_ppc_unix.h -> build/lib.macosx-10.9-x86_64-cpython-310/greenlet/platform\n",
      "  \u001b[31m   \u001b[0m copying src/greenlet/platform/switch_riscv_unix.h -> build/lib.macosx-10.9-x86_64-cpython-310/greenlet/platform\n",
      "  \u001b[31m   \u001b[0m copying src/greenlet/platform/switch_s390_unix.h -> build/lib.macosx-10.9-x86_64-cpython-310/greenlet/platform\n",
      "  \u001b[31m   \u001b[0m copying src/greenlet/platform/switch_sparc_sun_gcc.h -> build/lib.macosx-10.9-x86_64-cpython-310/greenlet/platform\n",
      "  \u001b[31m   \u001b[0m copying src/greenlet/platform/switch_x32_unix.h -> build/lib.macosx-10.9-x86_64-cpython-310/greenlet/platform\n",
      "  \u001b[31m   \u001b[0m copying src/greenlet/platform/switch_x64_masm.asm -> build/lib.macosx-10.9-x86_64-cpython-310/greenlet/platform\n",
      "  \u001b[31m   \u001b[0m copying src/greenlet/platform/switch_x64_masm.obj -> build/lib.macosx-10.9-x86_64-cpython-310/greenlet/platform\n",
      "  \u001b[31m   \u001b[0m copying src/greenlet/platform/switch_x64_msvc.h -> build/lib.macosx-10.9-x86_64-cpython-310/greenlet/platform\n",
      "  \u001b[31m   \u001b[0m copying src/greenlet/platform/switch_x86_msvc.h -> build/lib.macosx-10.9-x86_64-cpython-310/greenlet/platform\n",
      "  \u001b[31m   \u001b[0m copying src/greenlet/platform/switch_x86_unix.h -> build/lib.macosx-10.9-x86_64-cpython-310/greenlet/platform\n",
      "  \u001b[31m   \u001b[0m copying src/greenlet/tests/_test_extension.c -> build/lib.macosx-10.9-x86_64-cpython-310/greenlet/tests\n",
      "  \u001b[31m   \u001b[0m copying src/greenlet/tests/_test_extension_cpp.cpp -> build/lib.macosx-10.9-x86_64-cpython-310/greenlet/tests\n",
      "  \u001b[31m   \u001b[0m running build_ext\n",
      "  \u001b[31m   \u001b[0m building 'greenlet._greenlet' extension\n",
      "  \u001b[31m   \u001b[0m creating build/temp.macosx-10.9-x86_64-cpython-310\n",
      "  \u001b[31m   \u001b[0m creating build/temp.macosx-10.9-x86_64-cpython-310/src\n",
      "  \u001b[31m   \u001b[0m creating build/temp.macosx-10.9-x86_64-cpython-310/src/greenlet\n",
      "  \u001b[31m   \u001b[0m clang -Wno-unused-result -Wsign-compare -Wunreachable-code -DNDEBUG -g -fwrapv -O2 -Wall -fPIC -O2 -isystem /Users/shabnam/Desktop/apple cahtbot/apple_chatbot/venev/include -fPIC -O2 -isystem /Users/shabnam/Desktop/apple cahtbot/apple_chatbot/venev/include -I/Users/shabnam/Desktop/apple_chatbot/venev/include/python3.10 -c src/greenlet/greenlet.cpp -o build/temp.macosx-10.9-x86_64-cpython-310/src/greenlet/greenlet.o --std=gnu++11\n",
      "  \u001b[31m   \u001b[0m clang: error: no such file or directory: 'cahtbot/apple_chatbot/venev/include'\n",
      "  \u001b[31m   \u001b[0m clang: error: no such file or directory: 'cahtbot/apple_chatbot/venev/include'\n",
      "  \u001b[31m   \u001b[0m error: command '/usr/bin/clang' failed with exit code 1\n",
      "  \u001b[31m   \u001b[0m \u001b[31m[end of output]\u001b[0m\n",
      "  \n",
      "  \u001b[1;35mnote\u001b[0m: This error originates from a subprocess, and is likely not a problem with pip.\n",
      "\u001b[?25h\u001b[31m  ERROR: Failed building wheel for greenlet\u001b[0m\u001b[31m\n",
      "\u001b[0mFailed to build greenlet\n",
      "\u001b[31mERROR: Could not build wheels for greenlet, which is required to install pyproject.toml-based projects\u001b[0m\u001b[31m\n",
      "\u001b[0mNote: you may need to restart the kernel to use updated packages.\n"
     ]
    }
   ],
   "source": [
    "%pip install --q unstructured langchain\n",
    "%pip install --q \"unstructured[all-docs]\""
   ]
  },
  {
   "cell_type": "code",
   "execution_count": 13,
   "metadata": {},
   "outputs": [
    {
     "ename": "ModuleNotFoundError",
     "evalue": "No module named 'langchain_community'",
     "output_type": "error",
     "traceback": [
      "\u001b[0;31m---------------------------------------------------------------------------\u001b[0m",
      "\u001b[0;31mModuleNotFoundError\u001b[0m                       Traceback (most recent call last)",
      "Cell \u001b[0;32mIn[13], line 1\u001b[0m\n\u001b[0;32m----> 1\u001b[0m \u001b[38;5;28;01mfrom\u001b[39;00m \u001b[38;5;21;01mlangchain_community\u001b[39;00m\u001b[38;5;21;01m.\u001b[39;00m\u001b[38;5;21;01mdocument_loaders\u001b[39;00m \u001b[38;5;28;01mimport\u001b[39;00m UnstructuredPDFLoader\n\u001b[1;32m      2\u001b[0m \u001b[38;5;28;01mfrom\u001b[39;00m \u001b[38;5;21;01mlangchain_community\u001b[39;00m\u001b[38;5;21;01m.\u001b[39;00m\u001b[38;5;21;01mdocument_loaders\u001b[39;00m \u001b[38;5;28;01mimport\u001b[39;00m OnlinePDFLoader\n",
      "\u001b[0;31mModuleNotFoundError\u001b[0m: No module named 'langchain_community'"
     ]
    }
   ],
   "source": [
    "from langchain_community.document_loaders import UnstructuredPDFLoader\n",
    "from langchain_community.document_loaders import OnlinePDFLoader"
   ]
  },
  {
   "cell_type": "code",
   "execution_count": null,
   "metadata": {},
   "outputs": [],
   "source": [
    "local_path = \"/Users/shabnam/Desktop/apple_chatbot/Apple_Vision_Pro_Privacy_Overview.pdf\"\n",
    "\n",
    "# Local PDF file uploads\n",
    "if local_path:\n",
    "  loader = UnstructuredPDFLoader(file_path=local_path)\n",
    "  data = loader.load()\n",
    "else:\n",
    "  print(\"Upload a PDF file\")"
   ]
  },
  {
   "cell_type": "code",
   "execution_count": null,
   "metadata": {},
   "outputs": [],
   "source": [
    "# Preview first page\n",
    "data[0].page_content"
   ]
  },
  {
   "cell_type": "code",
   "execution_count": null,
   "metadata": {},
   "outputs": [],
   "source": [
    "!ollama pull nomic-embed-text\n",
    "!ollama list"
   ]
  },
  {
   "cell_type": "code",
   "execution_count": null,
   "metadata": {},
   "outputs": [],
   "source": [
    "%pip install --q chromadb\n",
    "%pip install --q langchain-text-splitters"
   ]
  },
  {
   "cell_type": "code",
   "execution_count": null,
   "metadata": {},
   "outputs": [],
   "source": [
    "from langchain_community.embeddings import OllamaEmbeddings\n",
    "from langchain_text_splitters import RecursiveCharacterTextSplitter\n",
    "from langchain_community.vectorstores import Chroma"
   ]
  },
  {
   "cell_type": "code",
   "execution_count": null,
   "metadata": {},
   "outputs": [],
   "source": [
    "text_splitter = RecursiveCharacterTextSplitter(chunk_size=7500, chunk_overlap=100)\n",
    "chunks = text_splitter.split_documents(data)"
   ]
  },
  {
   "cell_type": "code",
   "execution_count": null,
   "metadata": {},
   "outputs": [],
   "source": [
    "# Add to vector database\n",
    "vector_db = Chroma.from_documents(\n",
    "    documents=chunks, \n",
    "    embedding=OllamaEmbeddings(model=\"nomic-embed-text\",show_progress=True),\n",
    "    collection_name=\"local-rag\"\n",
    ")"
   ]
  },
  {
   "cell_type": "code",
   "execution_count": null,
   "metadata": {},
   "outputs": [],
   "source": [
    "from langchain.prompts import ChatPromptTemplate, PromptTemplate\n",
    "from langchain_core.output_parsers import StrOutputParser\n",
    "from langchain_community.chat_models import ChatOllama\n",
    "from langchain_core.runnables import RunnablePassthrough\n",
    "from langchain.retrievers.multi_query import MultiQueryRetriever"
   ]
  },
  {
   "cell_type": "code",
   "execution_count": null,
   "metadata": {},
   "outputs": [],
   "source": [
    "# LLM from Ollama\n",
    "local_model = \"mistral\"\n",
    "llm = ChatOllama(model=local_model)"
   ]
  },
  {
   "cell_type": "code",
   "execution_count": null,
   "metadata": {},
   "outputs": [],
   "source": [
    "QUERY_PROMPT = PromptTemplate(\n",
    "    input_variables=[\"question\"],\n",
    "    template=\"\"\"You are an AI language model assistant.\n",
    "    Original question: {question}\"\"\",\n",
    ")"
   ]
  },
  {
   "cell_type": "code",
   "execution_count": null,
   "metadata": {},
   "outputs": [],
   "source": [
    "retriever = MultiQueryRetriever.from_llm(\n",
    "    vector_db.as_retriever(), \n",
    "    llm,\n",
    "    prompt=QUERY_PROMPT\n",
    ")\n",
    "\n",
    "# RAG prompt\n",
    "template = \"\"\"Answer the question based ONLY on the following context:\n",
    "{context}\n",
    "Question: {question}\n",
    "\"\"\"\n",
    "\n",
    "prompt = ChatPromptTemplate.from_template(template)"
   ]
  },
  {
   "cell_type": "code",
   "execution_count": null,
   "metadata": {},
   "outputs": [],
   "source": [
    "chain = (\n",
    "    {\"context\": retriever, \"question\": RunnablePassthrough()}\n",
    "    | prompt\n",
    "    | llm\n",
    "    | StrOutputParser()\n",
    ")"
   ]
  },
  {
   "cell_type": "code",
   "execution_count": null,
   "metadata": {},
   "outputs": [],
   "source": [
    "chain.invoke(input(\"\"))"
   ]
  },
  {
   "cell_type": "code",
   "execution_count": null,
   "metadata": {},
   "outputs": [],
   "source": [
    "chain.invoke(\"What ?\")"
   ]
  }
 ],
 "metadata": {
  "kernelspec": {
   "display_name": "Python 3",
   "language": "python",
   "name": "python3"
  },
  "language_info": {
   "codemirror_mode": {
    "name": "ipython",
    "version": 3
   },
   "file_extension": ".py",
   "mimetype": "text/x-python",
   "name": "python",
   "nbconvert_exporter": "python",
   "pygments_lexer": "ipython3",
   "version": "3.10.0"
  }
 },
 "nbformat": 4,
 "nbformat_minor": 2
}
